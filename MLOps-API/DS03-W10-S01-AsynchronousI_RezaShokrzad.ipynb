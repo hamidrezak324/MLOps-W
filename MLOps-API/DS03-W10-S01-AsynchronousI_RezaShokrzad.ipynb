{
  "cells": [
    {
      "cell_type": "code",
      "execution_count": 7,
      "metadata": {
        "colab": {
          "base_uri": "https://localhost:8080/"
        },
        "id": "lIYdn1woOS1n",
        "outputId": "f2c95ae5-b6f6-49bf-e1a9-51443c6f2cd6"
      },
      "outputs": [
        {
          "output_type": "stream",
          "name": "stdout",
          "text": [
            "task A strating ... \n",
            "task A completed. \n",
            "task A took 2.0045623779296875 seconds. \n",
            "task B strating ... \n",
            "task B completed. \n",
            "task B took 2.0022695064544678 seconds. \n",
            "total time: 4.006922960281372 seconds. \n"
          ]
        }
      ],
      "source": [
        "import time\n",
        "\n",
        "def task(name):\n",
        "  start_time = time.time()\n",
        "  print(f\"task {name} strating ... \")\n",
        "  time.sleep(2)\n",
        "  print(f\"task {name} completed. \")\n",
        "  end_time = time.time()\n",
        "  print(f\"task {name} took {end_time - start_time} seconds. \")\n",
        "\n",
        "\n",
        "def main():\n",
        "  s = time.time()\n",
        "  task(\"A\")\n",
        "  task(\"B\")\n",
        "  e = time.time()\n",
        "  print(f\"total time: {e - s} seconds. \")\n",
        "\n",
        "if __name__==\"__main__\":\n",
        "  main()"
      ]
    },
    {
      "cell_type": "code",
      "source": [
        "import asyncio\n",
        "import nest_asyncio\n",
        "\n",
        "nest_asyncio.apply()\n",
        "\n",
        "async def task(name):\n",
        "  start_time = time.time()\n",
        "  print(f\"task {name} strating ... \")\n",
        "  await asyncio.sleep(2)\n",
        "  print(f\"task {name} completed. \")\n",
        "  end_time = time.time()\n",
        "  print(f\"task {name} took {end_time - start_time} seconds. \")\n",
        "\n",
        "async def main():\n",
        "  s = time.time()\n",
        "  await asyncio.gather(task(\"A\"), task(\"B\"))\n",
        "  e = time.time()\n",
        "  print(f\"total time: {e - s} seconds. \")\n",
        "\n",
        "if __name__==\"__main__\":\n",
        "  asyncio.run(main())\n",
        "\n"
      ],
      "metadata": {
        "id": "ES-6JY-Dz5Sz",
        "outputId": "047e6fea-18b9-40d4-b2e5-200e114f5c84",
        "colab": {
          "base_uri": "https://localhost:8080/"
        }
      },
      "execution_count": 8,
      "outputs": [
        {
          "output_type": "stream",
          "name": "stdout",
          "text": [
            "task A strating ... \n",
            "task B strating ... \n",
            "task A completed. \n",
            "task A took 2.0054028034210205 seconds. \n",
            "task B completed. \n",
            "task B took 2.004509449005127 seconds. \n",
            "total time: 2.005805492401123 seconds. \n"
          ]
        }
      ]
    },
    {
      "cell_type": "code",
      "source": [],
      "metadata": {
        "id": "5iNQSICD1xod"
      },
      "execution_count": null,
      "outputs": []
    }
  ],
  "metadata": {
    "colab": {
      "name": "scratchpad",
      "provenance": []
    },
    "kernelspec": {
      "display_name": "Python 3",
      "name": "python3"
    }
  },
  "nbformat": 4,
  "nbformat_minor": 0
}